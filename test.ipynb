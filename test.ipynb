{
 "cells": [
  {
   "cell_type": "code",
   "execution_count": 6,
   "metadata": {},
   "outputs": [],
   "source": [
    "import win32com.client\n",
    "import pythoncom"
   ]
  },
  {
   "cell_type": "code",
   "execution_count": 7,
   "metadata": {},
   "outputs": [],
   "source": [
    "swYearLastDigit = 9\n",
    "sw = win32com.client.Dispatch(\"SldWorks.Application.%d\" % (20+(swYearLastDigit-2)))  # e.g. 20 is SW2012,  23 is SW2015"
   ]
  },
  {
   "cell_type": "code",
   "execution_count": 8,
   "metadata": {},
   "outputs": [],
   "source": [
    "Model = sw.ActiveDoc\n",
    "ARG_NULL = win32com.client.VARIANT(pythoncom.VT_DISPATCH, None)\n",
    "ck = Model.Extension.SelectByID2(\"Front\", \"PLANE\", 0, 0, 0, False, 0, ARG_NULL, 0)\n",
    "Model.SketchManager.InsertSketch(True)\n",
    "Model.ClearSelection2(True)\n",
    "mySketchText = Model.InsertSketchText(\n",
    "        0, 0, 0, \"Hello!\", 0, 0, 0, 100, 100)"
   ]
  },
  {
   "cell_type": "code",
   "execution_count": null,
   "metadata": {},
   "outputs": [],
   "source": []
  }
 ],
 "metadata": {
  "kernelspec": {
   "display_name": "Python 3",
   "language": "python",
   "name": "python3"
  },
  "language_info": {
   "codemirror_mode": {
    "name": "ipython",
    "version": 3
   },
   "file_extension": ".py",
   "mimetype": "text/x-python",
   "name": "python",
   "nbconvert_exporter": "python",
   "pygments_lexer": "ipython3",
   "version": "3.8.3"
  }
 },
 "nbformat": 4,
 "nbformat_minor": 4
}
