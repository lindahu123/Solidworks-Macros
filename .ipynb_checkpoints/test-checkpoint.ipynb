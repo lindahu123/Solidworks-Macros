{
 "cells": [
  {
   "cell_type": "code",
   "execution_count": 16,
   "metadata": {},
   "outputs": [],
   "source": [
    "import win32com.client\n",
    "import pythoncom"
   ]
  },
  {
   "cell_type": "code",
   "execution_count": 18,
   "metadata": {},
   "outputs": [],
   "source": [
    "swYearLastDigit = 9\n",
    "sw = win32com.client.Dispatch(\"SldWorks.Application.%d\" % (20+(swYearLastDigit-2)))"
   ]
  },
  {
   "cell_type": "code",
   "execution_count": 19,
   "metadata": {},
   "outputs": [
    {
     "data": {
      "text/plain": [
       "<COMObject <unknown>>"
      ]
     },
     "execution_count": 19,
     "metadata": {},
     "output_type": "execute_result"
    }
   ],
   "source": [
    "sw.newpart"
   ]
  },
  {
   "cell_type": "code",
   "execution_count": 20,
   "metadata": {},
   "outputs": [],
   "source": [
    "model = sw.ActiveDoc\n",
    "modelExt = model.Extension\n",
    "selMgr = model.SelectionManager\n",
    "featureMgr = model.FeatureManager\n",
    "sketchMgr = model.SketchManager\n",
    "eqMgr = model.GetEquationMgr\n",
    "ARG_NULL = win32com.client.VARIANT(pythoncom.VT_DISPATCH, None)\n"
   ]
  },
  {
   "cell_type": "code",
   "execution_count": 11,
   "metadata": {},
   "outputs": [
    {
     "data": {
      "text/plain": [
       "1"
      ]
     },
     "execution_count": 11,
     "metadata": {},
     "output_type": "execute_result"
    }
   ],
   "source": [
    "length = 1/39.3701\n",
    "bore_size = 0.5/39.3701\n",
    "bore_placement = 1.5/39.3701\n",
    "height = bore_size + bore_placement\n",
    "thickness = 0.2/39.3701\n",
    "arc_rad = 1.25/39.3701\n",
    "L_bracket_length = 1/39.3701\n",
    "x = \"\\\"length\\\" = 1/39.3701\"\n",
    "eqMgr.Add2(1,\"\\\"length\\\" = 1/39.3701\", True) \n",
    "eqMgr.Add2(1, \"\\\"height\\\" = 2/39.3701\", True) "
   ]
  },
  {
   "cell_type": "markdown",
   "metadata": {},
   "source": [
    "**This section creates a simple tab with notched bottom**"
   ]
  },
  {
   "cell_type": "code",
   "execution_count": 46,
   "metadata": {},
   "outputs": [
    {
     "data": {
      "text/plain": [
       "<COMObject <unknown>>"
      ]
     },
     "execution_count": 46,
     "metadata": {},
     "output_type": "execute_result"
    }
   ],
   "source": [
    "modelExt.SelectByID2(\"Front Plane\", \"PLANE\", 0, 0, 0, False, 0, ARG_NULL, 0)\n",
    "sketchMgr.InsertSketch(True)\n",
    "sketchMgr.CreateCornerRectangle(0, 0, 0, length, height, 0)\n",
    "sketchMgr.CreateCircle(length/2, bore_placement,0,length/2,bore_placement+bore_size/2, 0)"
   ]
  },
  {
   "cell_type": "code",
   "execution_count": 47,
   "metadata": {
    "scrolled": true
   },
   "outputs": [
    {
     "data": {
      "text/plain": [
       "<COMObject <unknown>>"
      ]
     },
     "execution_count": 47,
     "metadata": {},
     "output_type": "execute_result"
    }
   ],
   "source": [
    "modelExt.SelectByID2(\"Line1\", \"SKETCHSEGMENT\", 0, 0, 0, False, 0, ARG_NULL, 0)\n",
    "modelExt.AddDimension(0, 0.001, 0, 0)\n",
    "modelExt.SelectByID2(\"Line2\", \"SKETCHSEGMENT\", 0, 0, 0, False, 0, ARG_NULL, 0)\n",
    "modelExt.AddDimension(0, 0.001, 0, 0)"
   ]
  },
  {
   "cell_type": "code",
   "execution_count": 48,
   "metadata": {},
   "outputs": [
    {
     "data": {
      "text/plain": [
       "<COMObject <unknown>>"
      ]
     },
     "execution_count": 48,
     "metadata": {},
     "output_type": "execute_result"
    }
   ],
   "source": [
    "modelExt.SelectByID2(\"Sketch1\", \"SKETCH\", 0, 0, 0, False, 0, ARG_NULL, 0)\n",
    "featureMgr.FeatureExtrusion2(True,False,False,0,0,thickness,0.001,False,False,False,False,0,0,False,False,False,False,True,True,True,0,0, False)"
   ]
  },
  {
   "cell_type": "code",
   "execution_count": 49,
   "metadata": {},
   "outputs": [
    {
     "data": {
      "text/plain": [
       "1"
      ]
     },
     "execution_count": 49,
     "metadata": {},
     "output_type": "execute_result"
    }
   ],
   "source": [
    "eqMgr.Add2(1, \"\\\"D1@Sketch1\\\" = \\\"length\\\"\", True) \n",
    "eqMgr.Add2(1, \"\\\"D2@Sketch1\\\" = \\\"height\\\"\", True) "
   ]
  },
  {
   "cell_type": "code",
   "execution_count": 50,
   "metadata": {},
   "outputs": [
    {
     "data": {
      "text/plain": [
       "<COMObject <unknown>>"
      ]
     },
     "execution_count": 50,
     "metadata": {},
     "output_type": "execute_result"
    }
   ],
   "source": [
    "modelExt.SelectByID2(\"Front Plane\", \"PLANE\", 0, 0, 0, False, 0, ARG_NULL, 0)\n",
    "sketchMgr.InsertSketch(True)\n",
    "sketchMgr.PerimeterCircle(0, 0, length/2, arc_rad - length, length, 0)"
   ]
  },
  {
   "cell_type": "code",
   "execution_count": 51,
   "metadata": {},
   "outputs": [
    {
     "data": {
      "text/plain": [
       "4"
      ]
     },
     "execution_count": 51,
     "metadata": {},
     "output_type": "execute_result"
    }
   ],
   "source": [
    "eqMgr.Add2(-1, \"\\\"a\\\" = 0.2/39.3701\", True) "
   ]
  },
  {
   "cell_type": "code",
   "execution_count": 52,
   "metadata": {},
   "outputs": [
    {
     "data": {
      "text/plain": [
       "1"
      ]
     },
     "execution_count": 52,
     "metadata": {},
     "output_type": "execute_result"
    }
   ],
   "source": [
    "eqMgr.Add2(1, \"\\\"D1@Boss-Extrude1\\\" = \\\"a\\\"\", True) "
   ]
  },
  {
   "cell_type": "code",
   "execution_count": 53,
   "metadata": {},
   "outputs": [
    {
     "data": {
      "text/plain": [
       "<COMObject <unknown>>"
      ]
     },
     "execution_count": 53,
     "metadata": {},
     "output_type": "execute_result"
    }
   ],
   "source": [
    "featureMgr.FeatureCut3(False, False, False, 1, 0, 100, 100, False, False, False, False, 0, 0, False, False, False, False, False, True, True, False, False, False, 0, 0, False)"
   ]
  },
  {
   "cell_type": "markdown",
   "metadata": {},
   "source": [
    "**This section makes equations for the simple bracket**"
   ]
  },
  {
   "cell_type": "code",
   "execution_count": 35,
   "metadata": {},
   "outputs": [
    {
     "data": {
      "text/plain": [
       "'\"D1@Sketch1\" = \"length\"'"
      ]
     },
     "execution_count": 35,
     "metadata": {},
     "output_type": "execute_result"
    }
   ],
   "source": [
    "eqMgr.Equation(2)"
   ]
  },
  {
   "cell_type": "code",
   "execution_count": 34,
   "metadata": {},
   "outputs": [
    {
     "data": {
      "text/plain": [
       "False"
      ]
     },
     "execution_count": 34,
     "metadata": {},
     "output_type": "execute_result"
    }
   ],
   "source": [
    "eqMgr.Equation(2) == ''"
   ]
  },
  {
   "cell_type": "code",
   "execution_count": 40,
   "metadata": {
    "scrolled": true
   },
   "outputs": [
    {
     "name": "stdout",
     "output_type": "stream",
     "text": [
      "{'\"length\" = 1/39.3701': 0, '\"height\" = 3/39.3701': 1, '\"D1@Boss-Extrude1\" = \"a\"': 2, '\"D2@Sketch1\" = \"height\"': 3, '\"D1@Sketch1\" = \"length\"': 4, '\"a\" = 0.2/39.3701': 5}\n"
     ]
    }
   ],
   "source": [
    "i = 0\n",
    "dict1 = {}\n",
    "while eqMgr.Equation(i) != '':\n",
    "    dict1[eqMgr.Equation(i)] = i\n",
    "    i +=1\n",
    "    \n",
    "print(dict1)  "
   ]
  },
  {
   "cell_type": "code",
   "execution_count": 43,
   "metadata": {},
   "outputs": [
    {
     "data": {
      "text/plain": [
       "2"
      ]
     },
     "execution_count": 43,
     "metadata": {},
     "output_type": "execute_result"
    }
   ],
   "source": [
    "dict1['\"D1@Sketch1\" = \"length\"']"
   ]
  },
  {
   "cell_type": "markdown",
   "metadata": {},
   "source": [
    "**This section creates an L bracket**"
   ]
  },
  {
   "cell_type": "code",
   "execution_count": 12,
   "metadata": {},
   "outputs": [
    {
     "data": {
      "text/plain": [
       "<COMObject <unknown>>"
      ]
     },
     "execution_count": 12,
     "metadata": {},
     "output_type": "execute_result"
    }
   ],
   "source": [
    "modelExt.SelectByID2(\"Front Plane\", \"PLANE\", 0, 0, 0, False, 0, ARG_NULL, 0)\n",
    "sketchMgr.InsertSketch(True)\n",
    "sketchMgr.CreateCornerRectangle(0, 0, 0, length, height, 0)\n",
    "sketchMgr.CreateCircle(length/2, bore_placement,0,length/2,bore_placement+bore_size/2, 0)"
   ]
  },
  {
   "cell_type": "code",
   "execution_count": 13,
   "metadata": {},
   "outputs": [
    {
     "data": {
      "text/plain": [
       "<COMObject <unknown>>"
      ]
     },
     "execution_count": 13,
     "metadata": {},
     "output_type": "execute_result"
    }
   ],
   "source": [
    "modelExt.SelectByID2(\"Sketch6\", \"SKETCH\", 0, 0, 0, False, 0, ARG_NULL, 0)\n",
    "featureMgr.FeatureExtrusion2(True,False,False,0,0,thickness,0.001,False,False,False,False,0,0,False,False,False,False,True,True,True,0,0, False)"
   ]
  },
  {
   "cell_type": "code",
   "execution_count": 14,
   "metadata": {},
   "outputs": [
    {
     "data": {
      "text/plain": [
       "(<COMObject CreateCornerRectangle>,\n",
       " <COMObject CreateCornerRectangle>,\n",
       " <COMObject CreateCornerRectangle>,\n",
       " <COMObject CreateCornerRectangle>)"
      ]
     },
     "execution_count": 14,
     "metadata": {},
     "output_type": "execute_result"
    }
   ],
   "source": [
    "model.ClearSelection2(True)\n",
    "model.SelectByID(\"Front Plane\", \"PLANE\", 0, 0, 0)\n",
    "model.CreatePlaneAtOffset(thickness, 0)\n",
    "sketchMgr.CreateCornerRectangle(0, 0, 0, length, thickness, 0)"
   ]
  },
  {
   "cell_type": "code",
   "execution_count": 15,
   "metadata": {},
   "outputs": [
    {
     "data": {
      "text/plain": [
       "<COMObject <unknown>>"
      ]
     },
     "execution_count": 15,
     "metadata": {},
     "output_type": "execute_result"
    }
   ],
   "source": [
    "featureMgr.FeatureExtrusion2(True,False,False,0,0,L_bracket_length,0.1,False,False,False,False,0,0,False,False,False,False,True,True,True,0,0, False)"
   ]
  }
 ],
 "metadata": {
  "kernelspec": {
   "display_name": "Python 3",
   "language": "python",
   "name": "python3"
  },
  "language_info": {
   "codemirror_mode": {
    "name": "ipython",
    "version": 3
   },
   "file_extension": ".py",
   "mimetype": "text/x-python",
   "name": "python",
   "nbconvert_exporter": "python",
   "pygments_lexer": "ipython3",
   "version": "3.8.3"
  }
 },
 "nbformat": 4,
 "nbformat_minor": 4
}
