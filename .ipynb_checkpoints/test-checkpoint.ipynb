{
 "cells": [
  {
   "cell_type": "code",
   "execution_count": 29,
   "metadata": {},
   "outputs": [],
   "source": [
    "import win32com.client\n",
    "import pythoncom"
   ]
  },
  {
   "cell_type": "code",
   "execution_count": 186,
   "metadata": {},
   "outputs": [],
   "source": [
    "swYearLastDigit = 9\n",
    "sw = win32com.client.Dispatch(\"SldWorks.Application.%d\" % (20+(swYearLastDigit-2)))"
   ]
  },
  {
   "cell_type": "code",
   "execution_count": 220,
   "metadata": {},
   "outputs": [],
   "source": [
    "model = sw.ActiveDoc\n",
    "modelExt = model.Extension\n",
    "selMgr = model.SelectionManager\n",
    "featureMgr = model.FeatureManager\n",
    "sketchMgr = model.SketchManager\n",
    "eqMgr = model.GetEquationMgr\n",
    "ARG_NULL = win32com.client.VARIANT(pythoncom.VT_DISPATCH, None)"
   ]
  },
  {
   "cell_type": "markdown",
   "metadata": {},
   "source": [
    "**This section creates a simple tab with notched bottom**"
   ]
  },
  {
   "cell_type": "code",
   "execution_count": 188,
   "metadata": {},
   "outputs": [],
   "source": [
    "length = 1/39.3701\n",
    "bore_size = 0.5/39.3701\n",
    "bore_placement = 1.5/39.3701\n",
    "height = bore_size + bore_placement\n",
    "thickness = 0.2/39.3701\n",
    "arc_rad = 1.25/39.3701\n",
    "L_bracket_length = 1/39.3701"
   ]
  },
  {
   "cell_type": "code",
   "execution_count": 189,
   "metadata": {},
   "outputs": [
    {
     "data": {
      "text/plain": [
       "<COMObject <unknown>>"
      ]
     },
     "execution_count": 189,
     "metadata": {},
     "output_type": "execute_result"
    }
   ],
   "source": [
    "modelExt.SelectByID2(\"Front Plane\", \"PLANE\", 0, 0, 0, False, 0, ARG_NULL, 0)\n",
    "sketchMgr.InsertSketch(True)\n",
    "sketchMgr.CreateCornerRectangle(0, 0, 0, length, height, 0)\n",
    "sketchMgr.CreateCircle(length/2, bore_placement,0,length/2,bore_placement+bore_size/2, 0)"
   ]
  },
  {
   "cell_type": "code",
   "execution_count": 190,
   "metadata": {},
   "outputs": [
    {
     "data": {
      "text/plain": [
       "<COMObject <unknown>>"
      ]
     },
     "execution_count": 190,
     "metadata": {},
     "output_type": "execute_result"
    }
   ],
   "source": [
    "modelExt.SelectByID2(\"Sketch6\", \"SKETCH\", 0, 0, 0, False, 0, ARG_NULL, 0)\n",
    "featureMgr.FeatureExtrusion2(True,False,False,0,0,thickness,0.001,False,False,False,False,0,0,False,False,False,False,True,True,True,0,0, False)"
   ]
  },
  {
   "cell_type": "code",
   "execution_count": 192,
   "metadata": {},
   "outputs": [
    {
     "data": {
      "text/plain": [
       "<COMObject <unknown>>"
      ]
     },
     "execution_count": 192,
     "metadata": {},
     "output_type": "execute_result"
    }
   ],
   "source": [
    "modelExt.SelectByID2(\"Front Plane\", \"PLANE\", 0, 0, 0, False, 0, ARG_NULL, 0)\n",
    "sketchMgr.InsertSketch(True)\n",
    "sketchMgr.PerimeterCircle(0, 0, length/2, arc_rad - length, length, 0)"
   ]
  },
  {
   "cell_type": "code",
   "execution_count": 178,
   "metadata": {},
   "outputs": [],
   "source": [
    "featureMgr.FeatureCut3(False, False, False, 1, 0, 100, 100, False, False, False, False, 0, 0, False, False, False, False, False, True, True, False, False, False, 0, 0, False)"
   ]
  },
  {
   "cell_type": "markdown",
   "metadata": {},
   "source": [
    "**This section creates an L bracket**"
   ]
  },
  {
   "cell_type": "code",
   "execution_count": 118,
   "metadata": {},
   "outputs": [
    {
     "data": {
      "text/plain": [
       "<COMObject <unknown>>"
      ]
     },
     "execution_count": 118,
     "metadata": {},
     "output_type": "execute_result"
    }
   ],
   "source": [
    "modelExt.SelectByID2(\"Front Plane\", \"PLANE\", 0, 0, 0, False, 0, ARG_NULL, 0)\n",
    "sketchMgr.InsertSketch(True)\n",
    "sketchMgr.CreateCornerRectangle(0, 0, 0, length, height, 0)\n",
    "sketchMgr.CreateCircle(length/2, bore_placement,0,length/2,bore_placement+bore_size/2, 0)\n"
   ]
  },
  {
   "cell_type": "code",
   "execution_count": 179,
   "metadata": {},
   "outputs": [
    {
     "data": {
      "text/plain": [
       "<COMObject <unknown>>"
      ]
     },
     "execution_count": 179,
     "metadata": {},
     "output_type": "execute_result"
    }
   ],
   "source": [
    "modelExt.SelectByID2(\"Sketch6\", \"SKETCH\", 0, 0, 0, False, 0, ARG_NULL, 0)\n",
    "featureMgr.FeatureExtrusion2(True,False,False,0,0,thickness,0.001,False,False,False,False,0,0,False,False,False,False,True,True,True,0,0, False)"
   ]
  },
  {
   "cell_type": "code",
   "execution_count": 131,
   "metadata": {},
   "outputs": [
    {
     "data": {
      "text/plain": [
       "(<COMObject CreateCornerRectangle>,\n",
       " <COMObject CreateCornerRectangle>,\n",
       " <COMObject CreateCornerRectangle>,\n",
       " <COMObject CreateCornerRectangle>)"
      ]
     },
     "execution_count": 131,
     "metadata": {},
     "output_type": "execute_result"
    }
   ],
   "source": [
    "model.ClearSelection2(True)\n",
    "model.SelectByID(\"Front Plane\", \"PLANE\", 0, 0, 0)\n",
    "model.CreatePlaneAtOffset(thickness, 0)\n",
    "sketchMgr.CreateCornerRectangle(0, 0, 0, length, thickness, 0)"
   ]
  },
  {
   "cell_type": "code",
   "execution_count": 183,
   "metadata": {},
   "outputs": [
    {
     "data": {
      "text/plain": [
       "<COMObject <unknown>>"
      ]
     },
     "execution_count": 183,
     "metadata": {},
     "output_type": "execute_result"
    }
   ],
   "source": [
    "featureMgr.FeatureCut3(False, False, False, 1, 0, 100, 100, False, False, False, False, 0, 0, False, False, False, False, False, True, True, False, False, False, 0, 0, False)"
   ]
  },
  {
   "cell_type": "markdown",
   "metadata": {},
   "source": [
    "**This section needs to create an FEA simulation... Yikes!**"
   ]
  },
  {
   "cell_type": "code",
   "execution_count": 184,
   "metadata": {},
   "outputs": [],
   "source": [
    "model.ClearSelection2(True)"
   ]
  }
 ],
 "metadata": {
  "kernelspec": {
   "display_name": "Python 3",
   "language": "python",
   "name": "python3"
  },
  "language_info": {
   "codemirror_mode": {
    "name": "ipython",
    "version": 3
   },
   "file_extension": ".py",
   "mimetype": "text/x-python",
   "name": "python",
   "nbconvert_exporter": "python",
   "pygments_lexer": "ipython3",
   "version": "3.8.3"
  }
 },
 "nbformat": 4,
 "nbformat_minor": 4
}
